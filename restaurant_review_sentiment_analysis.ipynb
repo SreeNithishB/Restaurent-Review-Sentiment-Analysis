{
 "cells": [
  {
   "cell_type": "markdown",
   "metadata": {
    "colab_type": "text",
    "id": "VwK5-9FIB-lu"
   },
   "source": [
    "# Natural Language Processing"
   ]
  },
  {
   "cell_type": "code",
   "execution_count": 1,
   "metadata": {},
   "outputs": [
    {
     "name": "stdout",
     "output_type": "stream",
     "text": [
      "Requirement already satisfied: textblob in c:\\users\\sreen\\anaconda3\\envs\\tensorflow\\lib\\site-packages (0.15.3)\n",
      "Requirement already satisfied: nltk>=3.1 in c:\\users\\sreen\\anaconda3\\envs\\tensorflow\\lib\\site-packages (from textblob) (3.5)\n",
      "Requirement already satisfied: tqdm in c:\\users\\sreen\\anaconda3\\envs\\tensorflow\\lib\\site-packages (from nltk>=3.1->textblob) (4.55.1)\n",
      "Requirement already satisfied: click in c:\\users\\sreen\\anaconda3\\envs\\tensorflow\\lib\\site-packages (from nltk>=3.1->textblob) (7.1.2)\n",
      "Requirement already satisfied: regex in c:\\users\\sreen\\anaconda3\\envs\\tensorflow\\lib\\site-packages (from nltk>=3.1->textblob) (2020.11.13)\n",
      "Requirement already satisfied: joblib in c:\\users\\sreen\\anaconda3\\envs\\tensorflow\\lib\\site-packages (from nltk>=3.1->textblob) (1.0.0)\n",
      "Requirement already satisfied: pyspellchecker in c:\\users\\sreen\\anaconda3\\envs\\tensorflow\\lib\\site-packages (0.6.2)\n"
     ]
    }
   ],
   "source": [
    "!pip install textblob\n",
    "!pip install pyspellchecker"
   ]
  },
  {
   "cell_type": "markdown",
   "metadata": {
    "colab_type": "text",
    "id": "X1kiO9kACE6s"
   },
   "source": [
    "## Importing the libraries"
   ]
  },
  {
   "cell_type": "code",
   "execution_count": 2,
   "metadata": {
    "colab": {},
    "colab_type": "code",
    "id": "7QG7sxmoCIvN"
   },
   "outputs": [],
   "source": [
    "import numpy as np\n",
    "import matplotlib.pyplot as plt\n",
    "import pandas as pd"
   ]
  },
  {
   "cell_type": "markdown",
   "metadata": {
    "colab_type": "text",
    "id": "wTfaCIzdCLPA"
   },
   "source": [
    "## Importing the dataset"
   ]
  },
  {
   "cell_type": "code",
   "execution_count": 4,
   "metadata": {
    "colab": {},
    "colab_type": "code",
    "id": "UCK6vQ5QCQJe"
   },
   "outputs": [],
   "source": [
    "dataset = pd.read_csv('Restaurant_Reviews.tsv', delimiter = '\\t', quoting = 3)"
   ]
  },
  {
   "cell_type": "markdown",
   "metadata": {
    "colab_type": "text",
    "id": "Qekztq71CixT"
   },
   "source": [
    "## Cleaning the texts"
   ]
  },
  {
   "cell_type": "code",
   "execution_count": 5,
   "metadata": {},
   "outputs": [
    {
     "name": "stderr",
     "output_type": "stream",
     "text": [
      "[nltk_data] Downloading package stopwords to\n",
      "[nltk_data]     C:\\Users\\sreen\\AppData\\Roaming\\nltk_data...\n",
      "[nltk_data]   Package stopwords is already up-to-date!\n"
     ]
    },
    {
     "name": "stdout",
     "output_type": "stream",
     "text": [
      "Wall time: 1min 24s\n"
     ]
    }
   ],
   "source": [
    "%%time\n",
    "\n",
    "import re\n",
    "import nltk\n",
    "nltk.download('stopwords')\n",
    "from nltk.corpus import stopwords\n",
    "from nltk.stem.porter import PorterStemmer\n",
    "from spellchecker import SpellChecker\n",
    "from textblob import TextBlob\n",
    "import textblob as tb\n",
    "tb.en.spelling.update({'wow':1})\n",
    "\n",
    "corpus = []\n",
    "for i in range(0, 1000):\n",
    "    review = re.sub('[^a-zA-Z]', ' ', dataset['Review'][i])\n",
    "    review = review.lower()\n",
    "    review = review.split()\n",
    "    ps = PorterStemmer()\n",
    "    all_stopwords = stopwords.words('english')\n",
    "    all_stopwords.remove('not')\n",
    "    review = [ps.stem(word) for word in review if not word in set(all_stopwords)]\n",
    "    review = ' '.join(review)\n",
    "#     spell = SpellChecker()\n",
    "#     str = re.findall(\"[a-zA-Z,.]+\",corpus[2])\n",
    "#     misspelled = spell.unknown(str)\n",
    "#     print(misspelled)\n",
    "    review = str(TextBlob(review).correct())\n",
    "    corpus.append(review)"
   ]
  },
  {
   "cell_type": "code",
   "execution_count": 6,
   "metadata": {},
   "outputs": [
    {
     "name": "stdout",
     "output_type": "stream",
     "text": [
      "['wow love place', 'crust not good', 'not taste texture nasty', 'stop late may bank holiday rich steve recommend love', 'select menu great price', 'get angry want damn who', 'honest last fresh', 'potato like rubber could tell made ahead time kept warmer', 'fro great', 'great touch', 'service prompt', 'would not go back', 'cashier care ever say still end way over', 'try cape cod revolt chicken cranberri mmm', 'disgust pretty sure human hair', 'shock sign india cash', 'highly recommend', 'witness little slow service', 'place not worth time let along vera', 'not like', 'burritto bah', 'food may', 'service also cut', 'could care less interior beauty', 'perform', 'right red velvet cake oh stuff good', 'never brought salad ask', 'hole wall great mexican street tact friendly staff', 'took hour get food table restful food luke warm never run around like total overwhelm', 'worst salmon sashimi', 'also comb like burgher fro beer decent deal', 'like final blow', 'found place acid could not happier', 'seem like good quick place grab bite familiar pub food favor look elsewhere', 'overall like place lot', 'redeem quality restful inexpens', 'ample portion good price', 'poor service waiter made feel like stupid every time came table', 'first visit hero delight', 'service suck', 'shrimp tender moist', 'not deal good enough would drag establish', 'hard judge whether side good gross melt styrofoam want eat fear get sick', 'post note server attend proved great service', 'frozen pack disgust worst people behind resist', 'thing like prime rib dessert section', 'bad food damn genet', 'burgher good beef cook right', 'want sandwich go firehous', 'side greek salad greek dress taste pity human refresh', 'order duck rare pink tender inside nice chair outside', 'came run us realize husband left spyglass table', 'how mein good', 'horrible attitude toward custom talk one custom enjoy food', 'portion huge', 'love friendly server great food wonder imagine menu', 'heart attack drill downtown vera absolute flat line excuse restful', 'not much seafood like string past bottom', 'salad right amount sac not power gallop perfectly cook', 'rip banana not rip petrified tactless', 'least think refill water struggle wave minute', 'place receive star paper', 'cocktail handed device', 'definite go back', 'glad found place', 'great food service huge portion give military discount', 'away great time do going', 'update went back second time still may', 'got food appear never heard salt matter fish chew', 'great way finish great', 'deal include last drink jeff went beyond expect', 'really really good rice time', 'service me', 'took min get milashka not school milk', 'guess known place would suck inside excalibur use common sens', 'gallop dish quit appeal value well', 'time bad custom service', 'sweet potato fro good season well', 'today second time lunch buffets pretty good', 'much good food vera feel cheat wast eat opportune go rice company', 'come like experience underwhelm relationship part wait person ask break', 'walk place smell like old great trap other eat', 'turkey roast beef bland', 'place', 'pan cake everyone have last like sugar disease tailor palate six year old', 'love who spring roll oh gumma try', 'poor matter meat ratio made chicken tender unsatisfied', 'say food may', 'omelet die', 'every fresh device', 'summary large disappoint dine expert', 'like really semi part mouth outrage flirt hottest person part', 'never hard rock causing never ever step forward', 'best breakfast buffets', 'say bye bye tip laid', 'never go', 'back', 'food arrive quickly', 'not good', 'side cafe serve really good food', 'server fantasy found wife love roast garlic bone marrow ad extra meal not marrow go', 'good thing waiter help kept blood mary come', 'best buffets town price cannot beat', 'love muscle cook wine reduce duck tender potato dish device', 'one better buffets', 'went tigerlilli fantasy afternoon', 'food device attend attend person got great deal', 'amiens wonder music play', 'go back next trip', 'sooooo good', 'real such lover let honest yuma not good', 'least min pass us order food arrive busy', 'really fantasy that restful definite worth visit', 'nice spice tender', 'good price', 'check', 'pretty gross', 'better atmosphere', 'kind hard mess speak', 'although much like look sound place actual expert bit disappoint', 'know place manage serve blankets food ever eaten prepare indian cousin', 'worst service boot least worry', 'service fine witness friendly', 'guy speak speak love son speak best worst place said best speak ever eaten', 'thought venture away get good such place really hit spot night', 'host staff lack better word bitch', 'bland not like place number reason want wast time bad review leave', 'phenomena food service ambianc', 'return', 'definite worth venture strip pork bell return next time vera', 'place way over medico food', 'penn vodka expel', 'good select food include massive meatloaf sandwich crisp chicken wrap relish tune melt taste burgher', 'manage rude', 'device ny babel good select cream cheeks real low caper even', 'great subways fact good come every subways not meet expect', 'serious solid breakfast', 'one best bar food vera', 'extreme rude really man restful would love dine weekend vera', 'drink never empty made really great menu suggest', '', 'waiter help friendly rare check us', 'husband ate lunch disappoint food service', 'red burri much bamboo shoot taste', 'nice blanket mon top feel like done cover supper food', 'bathroom clean place well door', 'menu away change food quality go service extreme slow', 'service little slow consider serve people server food come slow pace', 'give thumb', 'watch waiter pay lot attend table ignore us', 'fiance came middle day greet seat right away', 'great restful mandalay bay', 'wait forty five minute vain', 'crossing came salad stale', 'highlight great quality nigiri', 'staff friendly joint away clean', 'differ cut piece day still wonder tender well well flavor', 'order voodoo past first time really expel past since go lumen free never year ago', 'place good', 'unfortun must hit baker left day every order stale', 'came back today since relic still not impress', 'seat dimmed', 'menu divers reason price', 'avoid cost', 'restful away full never wait', 'device', 'place hand one best place eat phoenix retro area', 'go look good food', 'never treat bad', 'bacon hell salt', 'also order spinal avocado salad inured sad dress later zero last', 'really vera fine dine use right menu hand laid price list', 'witness friendly', 'lord khan so dish not miss burri lover', 'every menu terrify also thrill made may accommod vegetarian daughter', 'perhaps caught night judge review not inspire go back', 'service leave lot desire', 'atmosphere modern hip maintain touch coli', 'not weekly haunt definite place come back every', 'later sat minute one ask take order', 'burgher absolute flavor meat total bland burgher overtook charcoal flavor', 'also decide not send back witness look like very heart attack', 'dress treat rude', 'probably dirt', 'love place hit spot want cometh health not lack quantity flavor', 'order lemon raspberri ice cocktail also inured', 'food suck expect suck could imagine', 'interest door', 'really like crept station', 'also serve hot bread butter home made potato chip bacon bit top origin good', 'watch prepare device food', 'egg roll fantasy', 'order arrive one go miss', 'salad wing ice cream dessert left feel quit satisfy', 'not really sure joy vote best hot dog valley reader phoenix magazine', 'best place go taste bowl who', 'live music friday total blow', 'never insult felt disrespect', 'friendly staff', 'worth drive', 'heard good thing place exceed every hope could dream', 'food great service', 'warm beer help', 'great branch spot', 'service friendly invite', 'good lunch spot', 'live since first last time step foot place', 'worst expert ever', 'must night place', 'side relish mix mushroom upon gold pure white corn beaten', 'bug never show would given sure side wall bug climb kitchen', 'minute wait salad realize come time soon', 'friend love salmon tartar', 'go back', 'extreme taste', 'witness good though', 'song not good', 'jamaica motto device', 'small not worth price', 'food rich order accordingly', 'shower area outside ring not take full shower unless mind rude everyone see', 'service bit lack', 'lobster bijou bushel sprout risotto file need salt pepper course none table', 'hope bone go busy someone cook come', 'either cold not enough flavor bad', 'love bacon wrap date', 'unbelief bargain', 'folk otto away make us feel welcome special', 'main also uninspir', 'place first who may', 'wonder expert made place must stop when town', 'food bad enough enjoy deal world worst annoy drunk people', 'fun chef', 'order doubt cheeseburg got single patty fall apart picture unload yeah still suck', 'great place couple drink watch sport event wall cover to', 'possible give zero star', 'rescript said sum sum sac not said feel sac yet not said spice mayo well none roll sac', 'say would hardest denis honestly dish last suppose last may', 'not roll eye may stay not sure go back try', 'everyone attend proved expel custom service', 'horrible wast time money', 'dish quit flavour', 'time side restful almost empty excuse', 'busy either also build free cold', 'like review said pay eat place', 'drink took close minute come one point', 'serious flavor delight folk', 'much better arc such place went vera', 'light dark enough set mood', 'base sub par service receive effort show gratitude busy go back', 'owner really great people', 'not privilege work eat', 'greek dress cream flavor', 'overall think would take parent place made similar complaint silent felt', 'penza good peanuts sac taste', 'table service pretty fast', 'fantasy service', 'well would given goliath zero star possible', 'know make', 'tough short flavor', 'hope place stick around', 'bar vera not ever real charge tap water', 'restful atmosphere exquisite', 'good service clean inexpens boot', 'seafood fresh genet portion', 'plus buck', 'service not par either', 'the far visit twice food absolute device time', 'good year ago', 'self proclaim coffee cafe wildly disappoint', 'vegetarian latter world', 'can go wrong food', 'beat', 'stop place madison roman friendly kind staff', 'chef friendly good job', 'better not devil bob tea spot even jenny who', 'like ratio service outstand', 'goat tact skin meat wow flavor', 'think not', 'mac salad pretty bland not get', 'went bache burgher friend recommend not disappoint', 'service stink', 'wait wait', 'place not quality such not quality restful', 'would definite recommend wing well penza', 'great penza salad', 'thing went wrong burn saganaki', 'wait hour breakfast could done time better home', 'place may', 'hate disagree fellow helper husband disappoint place', 'wait hour never got either penza man around us came later', 'know slow', 'staff great food relish inured beer select', 'live neighborhood disappoint back convent local', 'know pull pork could soon device', 'get inured fresh fish prepare care', 'go gave star rate pleas know third time eat bache burgher write review', 'love fact every menu worth', 'never dine place', 'food expel service good', 'good beer drink select good food select', 'pleas stay away shrimp stir fro good', 'potato chip order sad could probably count man chip box probably around', 'food really bore', 'good service check', 'greedy corpora never see not time', 'never ever go back', 'much like go back get pass atropin service never return', 'summer dine charm outdoor ratio delight', 'not expect good', 'fantasy food', 'order toast english coffin came toast', 'food good', 'never go back', 'great food price high quality house made', 'bu boy hand rude', 'point friend basic figure place joke mind make publicly loudly known', 'back good by lighter fare reason price tell public back old way', 'consider two us left full happy go wrong', 'bread made house', 'downed service', 'also fro without doubt worst fro ever', 'service except food good review', 'couple month later return may meal', 'favorite place town shawarrrrrrma', 'black eye pea sweet potato unreal', 'disappoint', 'could serve vinaigrette may make better overall dish still good', 'go far man place never seen restful serve egg breakfast respect', 'mon got home dimmed got sick bite salad', 'server not pleasant deal away honor penza hut coupon', 'truly unbelief good glad went back', 'fantasy service pleas atmosphere', 'every gross', 'love place', 'great service food', 'first bathroom local dirty seat cover not replenished plain luck', 'burgher got gold standard burgher kind disappoint', 'org food delicious', 'not authentic place', 'spaghetti not special whatsoever', 'dish salmon best great', 'beget fresh sac feel like authentic that', 'worth drive tucson', 'select probably worst seen vera none', 'pretty good beer select', 'place like chipotl better', 'class warm atmosphere fun fresh paper succumb speak basal speak', 'star brick oven bread pp', 'eaten multiple time time food device', 'sat not ten minute final gave left', 'terrible', 'everyone treat equal special', 'take min pancake egg', 'device', 'good side staff genuine pleasant enthusiast real treat', 'sadly gordon raised speak place shall sharply avoid next trip vera', 'away even wonder food device', 'best fish ever life', 'bathroom next door nice', 'buffets small food offer bland', 'outstand little restful best food ever last', 'pretty cool would say', 'definite turn doubt back unless someone else buy', 'server great job hand large rowdy table', 'find wast food despite food', 'wife lobster bijou soup lukewarm', 'would come back such grave vera', 'staff great ambianc great', 'desert star', 'left stomach each felt sick rest day', 'drop ball', 'dine space tiny elegantly door comfort', 'custom order way like usual eggplant green bean stir fro love', 'bean rice medico best', 'best tact town far', 'took back money got gutta', 'interest part town place may', 'rude consider manage', 'staff not friendly wait time serve horrible one even say hi first minute', 'back', 'great dinner', 'service tushin definite recommend halibut', 'food terrible', 'never ever go back told man people happen', 'recommend unless car break front start', 'come back every time vera', 'place desert one star food', 'disgrace', 'def come back bowl next time', 'want health authentic ethics food try place', 'continue come laid night added date night highly recommend place anyone area', 'never time past expert away great', 'walk away stuff happy first vera buffets expert', 'service expel price pretty reason consider vera local inside crystal shop mall area', 'summer food inured nay transcend not bring joy quit like memory pneumo condiments dispense', 'probably one people ever go in not like', 'kid penza away hit lot great side dish option kind', 'service perfect family atmosphere nice see', 'cook perfect service impact', 'one simple disappoint', 'overall disappoint quality food cochon', 'account know get screw', 'great place eat remind little mon pop shop san francisco bay area', 'today first last bulldog gourmet hot dog tell ever thought possible', 'left frustrate', 'definite soon', 'food really good got full petty fast', 'service fantasy', 'total wast time', 'know kind best ice tea', 'come hungry leave happy stuff', 'service give star', 'assure disappoint', 'take little bad service food suck', 'gave try eat crust teeth still sore', 'complete gross', 'really enjoy eat', 'first time go think quickly become regular', 'server nice even though look little overwhelm need stay profession friendly end', 'dinner companion told every fresh nice texture last', 'ground right next table large smear step track everywhere pile green bird poor', 'furthermore even find hour over west', 'try like place time think done', 'mistake', 'complaint', 'serious good penza expert connoisseur topic', 'waiter jerk', 'strike want rush', 'nicest restful owner ever come across', 'never come', 'love biscuit', 'service quick friendly', 'order paper took minute penza not minute', 'absolutely fantasy', 'huge awkward lb piece cow th grist fat', 'definite come back', 'like sterner dark feel like bar', 'wow spice device', 'not familiar check', 'take busy dinner dollar elsewhere', 'love go back', 'anyway is restful wonder breakfast lunch', 'not special', 'day week differ deal device', 'not mention combine pear almond bacon big winner', 'not back', 'sac tactless', 'food device spice enough sure ask species prefer way', 'rise speak cook perfectly great mesquite flavor', 'think go back anti soon', 'food good', 'far such connoisseur definite tell differ good food bad food certainly bad food', 'insult', 'last time lunch bad', 'chicken wing contain priest chicken meat ever eaten', 'food good enjoy every mouth enjoy relax vent couple small family group etc', 'nail think great', 'best later to southwest', 'love place', 'definite not worth paid', 'vanilla ice cream cream smooth profiterol hour past fresh enough', 'in a time new spot', 'manage worst', 'inside really quit nice clean', 'food outstand price reason', 'think run back carpi anti soon food', 'due fact took minute acknowledge not minute get food kept forget thing', 'love margaret', 'first vera buffets not disappoint', 'good though', 'one note until could use upgrade', 'great pork sandwich', 'wast time', 'total letdown would much rather go camelback flower shop carted coffee', 'third cheeks friend burgher cold', 'enjoy penza branch', 'speak well trim also perfectly cook', 'group claim would hand us beauty', 'love', 'ask bill leave without eat bring either', 'place jewel la vera exactly hope find nearly ten year live', 'seafood limit boil shrimp crab leg crab leg definite not last fresh', 'select food not best', 'device absolute back', 'small family restful fine dine establish', 'too tartar cuvier extraordinary like thinly slice way white ruffle', 'dont think back long time', 'attach ga station rare good sign', 'awesom', 'back man time soon', 'menu much good stuff could not decide', 'words humble worker right front bunch horrible name call', 'conclude fill meal', 'daily special away hit group', 'tragedy struck', 'pancake also really good pretty large', 'first crawfish expert device', 'monster chicken fro speak egg time favorite', 'witness sweet funny', 'also last mon multi grain pushkin pancake can butter may fluffy device', 'rather eat airline food serious', 'can say enough good thing place', 'ambianc inured', 'witness manage friendly', 'would not recommend place', 'overall impress noma', 'go basic letter', 'terrible service', 'thoroughly disappoint', 'much past love homeward hand made past thin penza', 'give try happy', 'far best cheesecurd ever', 'reason price also', 'every perfect night', 'food good topic bar food', 'drive get', 'first glance love baker cafe nice ambianc clean friendly staff', 'anyway not think go back', 'point finger item menu order disappoint', 'oh thing beauty restful', 'gone go', 'greasy unhealthy meal', 'first time might last', 'burgher may', 'similarly deliver man not say word apology food minute late', 'way expense', 'sure order dessert even need pack go tiramisu cannot die', 'first time wait next', 'attend also nice', 'every good taste', 'place two thumb way', 'best place vera breakfast check sat sun', 'love authentic mexican food want whole bunch interest yet device meat choose need try place', 'terrible manage', 'expel new restful experience frenchman', 'zero star would give zero star', 'great speak great side great wine may dessert', 'worst martin ever', 'speak shrimp opinion best enter go', 'opportune today sample may penza', 'wait thirty minute seat although vacant table folk wait', 'yellowtail carpaccio melt mouth fresh', 'try go back even empty', 'go eat potato found stranger hair', 'spice enough perfect actual', 'last night second time dine happy decide go back', 'not even hello right', 'dessert bit strange', 'boyfriend came first time recent trip vera could not pleas quality food service', 'really recommend place go wrong dont place', 'nice ambianc', 'would recommend save room', 'guess may went night disgrace', 'howe recent expert particular local not good', 'know not like restful cometh', 'avoid establish', 'think restful suffer not try hard enough', 'papa dish device', 'heart place', 'salad bland vinegrett baby green heart palm', 'two felt disgust', 'good time', 'believe place great stop huge bell banker such', 'genet portion great last', 'never go back place never ever recommend place anyone', 'server went back forth never time not even much help', 'food device', 'hour serious', 'consider theft', 'new local need complete overhauled', 'recent wit poor quality manage toward guest well', 'wait wait wait', 'also came back check us regularly expel service', 'server super nice check us man time', 'penza last old super chew not good way', 'swung give try deeply disappoint', 'service good company better', 'staff also friendly effect', 'service fan quick serve nice folk', 'boy sucked dry', 'rate', 'look authentic that food go else', 'speak recommend', 'pull car wait not minute acknowledge', 'great food great service clean friendly set', 'assure back', 'hate thing much cheap quality black olive', 'breakfast prepare great beauty present giant slice toast lightly dust powder sugar', 'kid play area nasty', 'great place fo take eat', 'witness friendly happy accord began egg option', 'org felt like never eaten that food dish', 'extreme crumbly pretty tactless', 'pale color instead nice chair flavor', 'cotton also last homeward extra plus', 'got home see priest damn wing ever', 'regular stop trip phoenix', 'really enjoy cream can expand even told friend best breakfast', 'not good money', 'miss wish one philadelphia', 'got sit fairly fast end wait minute place order not minute food arrive', 'also best cheeks crisp town', 'good value great food great service', 'ask satisfy meal', 'food good', 'awesom', 'want leave', 'made drive way north scottsdal not one bit disappoint', 'not eat', 'owner really really need quit soooooo cheap let wrap freak sandwich two paper not one', 'check place couple year ago not impress', 'chicken got definite reheat ok wedge cold song', 'sorry not get food anti soon', 'absolute must visit', 'cow tongue cheek tact may', 'friend not like blood mary', 'despite hard rate busy actual rare give star', 'really want make expert good one', 'not return', 'chicken who last bland', 'disappoint', 'drill chicken tender yellow saffron season', 'drive thou mean not want wait around half hour food somehow end go make us wait wait', 'pretty awesom place', 'amiens perfect', 'best luck rude non custom service focus new manage', 'grandmother make roast chicken better one', 'ask multiple time wine list time ignore went hostess got one', 'staff away super friendly help respect cool bring two small boy baby', 'four star food guy blue shirt great vice still let us eat', 'roast beef sandwich last really good', 'even drastic sick', 'high quality chicken chicken caesar salad', 'order burgher rare came done', 'promptly greet seat', 'try go lunch madhous', 'prove dead wrong such bar not quality great service fast food impact', 'wait hour seat not greatest mood', 'good joint', 'makarin insane good', 'not eat', 'waiter attend friendly inform', 'may cold would somewhat evil', 'place lot promise fail devil', 'bad expert', 'mistake', 'food average best', 'great food', 'go back anti soon', 'disappoint order big bay later', 'great place relax awesom burgher beer', 'perfect sit family meal get together friend', 'not much flavor poorly construct', 'ratio seat comfort', 'fro rice dry well', 'hand favorite italian restful', 'scream left book somewhat also pretty rare vera', 'not fun expert', 'atmosphere great love do violins play song request', 'person love human pity balaga falafel baby ganoush may eggplant', 'convent since stay mmm', 'owner super friendly staff courteous', 'great', 'elect select', 'sweet potato to good onion ring perfect close', 'staff attend', 'chef genet time even came around twice take picture', 'owner use work not place really similar half price', 'good medico imagine smashburg pop', 'dont go', 'promise disappoint', 'such lover avoid place mean', 'great doubt cheeseburg', 'awesom service food', 'fantasy neighborhood gem', 'wait go back', 'planting worst ever last', 'great place highly recommend', 'service slow not attend', 'gave star give star', 'staff spend time talk', 'dessert anna costa may', 'good food great atmosphere', 'damn good speak', 'total branch fail', 'price reason flavor spot sac home made saw not french mayo', 'door nice piano music soundtrack pleasant', 'speak may re filled relent best seafood plate ever', 'good food good service', 'absolute may', 'probably back honest', 'definite back', 'sergeant pepper beef sandwich aunt sac expel sandwich well', 'hawaiian breeze mange magic pineapple delight smooth try far good', 'went lunch service slow', 'much say place walk expect may quickly disappoint', 'mortify', 'needless say never back', 'anyway food definite not fill price pay expect', 'chip came drip great mostly not evil', 'really impress strip speak', 'go since every meal awesom', 'server nice attend serve staff', 'cashier friendly even brought food', 'work hospital industry parades valley refrain recommend city longer', 'atmosphere fun', 'would not recommend other', 'service quick even go order like like', 'mean really get famous fish chip terrible', 'said mouth bell still quit pleas', 'not thing', 'thumb', 'read pleas go', 'love drill penza remind left italian penza', 'pro large seat area nice bar area great simple drink menu best brick oven penza homeward dough', 'really nice atmosphere', 'tonight ely file special suck', 'one bite hook', 'order old classic new dish go time sore disappoint every', 'cut quaint simple honest', 'chicken device season perfect fro outside moist chicken inside', 'food great away compliment chef', 'special thank plan recommend order gumma gumma', 'awesom select beer', 'great food awesom service', 'one nice thing ad gratuity bill since part larger expect tip', 'fly apply juice fly', 'had nan chicken also taste', 'service thought good', 'food bare lukewarm must sit wait server bring us', 'ran bar definite one edinburgh establish visit', 'nicest chinese restful', 'overall like food service', 'also serve indian nan bread human spice pine nut sac world', 'probably never come back recommend', 'friend past also bad bare touch', 'try airport expert taste food speed friendly service', 'love door chinese calligraphi wall paper', 'never any complain', 'restful clean family restful feel', 'way fro', 'not sure long stood long enough begin feel awkwardly place', 'open sandwich impress not good way', 'not back', 'warm feel service felt like guest special treat', 'extent menu proved lot option breakfast', 'away order vegetarian menu dinner wide array option choose', 'watch price flat portion get smaller manage attitude grow rapidly', 'wonder ll papa amiens made feel warm buzz inside', 'got enjoy seafood salad fall vinegrett', 'wanton thin not thick chew almost melt mouth', 'level spice perfect spice helm soup', 'sat right time server get go fantasy', 'main thing enjoy crowd older crowd around mid', 'side town definite spot hit', 'wait minute get drink longer get area', 'great place eat', 'jalapeno bacon soon good', 'service poor that nice', 'food good service good price good', 'place not clean food oh stale', 'chicken dish ok beef like shoe leather', 'service beyond bad', 'happy', 'last like dirt', 'one place phoenix would define go back', 'block may', 'close house low key non fancy afford price good food', 'hot sour egg flower soup absolute star', 'sashimi poor quality song tactless', 'great time family dinner sunday night', 'food not taste not say real trait human style', 'bother slow service', 'flair attend absolute may', 'frozen margaret way sugar last', 'good order twice', 'nutshell restraint smell like combine dirty fish market fewer', 'girlfriend veal bad', 'unfortun not good', 'pretty stiff expert', 'join club get awesom offer via email', 'perfect someone like beer ice cold case even colder', 'bland flavorless good way describe bare tepid meat', 'chain fan beat place vasili', 'each must', 'not come back', 'man word say place every pretty well', 'staff super nice quick even crazy crowd downtown jury lawyer court staff', 'great atmosphere friendly fast service', 'receive pity huge lot meat thumb', 'food arrive me', 'pay hot dog fro look like came kid meal wienerschnitzel not idea good meal', 'classic main lobster roll fantasy', 'brother law work mall ate day guess sick night', 'good go review place twice here tribute place tribute event held last night', 'chip also really good also fresh', 'place great', 'medico food', 'get inside impress place', 'super passed', 'service super friendly', 'sad little beget overtook', 'place nice surprise', 'golden crisp device', 'high hope place since burgher cook charcoal drill unfortun last fell flat way flat', 'could eat bruschetta day devil', 'not single employe came see ok even need water refill final serve us food', 'lastly mozzarella stick best thing order', 'first time ever came may expert still tell people awesom duck', 'server neglig need made us feel unwelcome would not suggest place', 'service terrible though', 'place over not consist bob really over', 'pack', 'love place', 'say dessert gumma', 'food terrible', 'season fruit fresh white each pure', 'kept get words words office done', 'place honestly blown', 'definite would not eat', 'not wast money', 'love put food nice plastic contain oppose cream little paper takeout box', 'or pe relic thin moist', 'a service', 'ever go', 'food quality horrible', 'price think place would much rather gone', 'service fair best', 'love such found kabuki price hip service', 'favor stay away dish', 'poor service', 'one table thought food average worth wait', 'best service food ever maria server good friendly made day', 'expel', 'paid bill not tip felt server terrible job', 'lunch great expert', 'never bland food surprise consider article read focus much spice flavor', 'food way over portion fuck small', 'recent try caballero back every week since', 'buck head really expect better food', 'food came good pace', 'ate twice last visit respect enjoy salmon salad', 'back', 'could not believe dirty system', 'place desert star', 'would not recommend place', 'fact go round star awesom', 'disbelieve dish qualify worst version food ever last', 'bad day not low tyler rude custom service people job nice polite wash dish otherwise', 'potato great biscuit', 'probably would not go', 'flavor perfect amount heat', 'price reason service great', 'wife hate meal coronet shrimp friend really not enjoy meal either', 'fell got hero ranchers look appeal', 'went happy hour great list wine', 'may say buffets prices think get pay place get quit lot', 'probably come back', 'worst food service', 'place pretty good nice little vice restful', 'talk great custom service course back', 'hot dish not hot cold dish close room hemp watch staff prepare food bare hand glove every deep fro oil', 'love fro bean', 'away pleasure deal', 'plethoric salad sandwich every try get seal approve', 'place awesom want cometh light health summer', 'such strip place go', 'service great even manage came help table', 'feel dine room college cook course high class dine service slow best', 'start review two star edit give one', 'worst such ever eat beside costo', 'expel restful highlight great service unique menu beauty set', 'boyfriend sat bar complete delight expert', 'weird vice owner', 'hardly meat', 'better babel grocer store', 'go place go', 'love owner chef one authentic japanese cool due', 'burgher good penza use may doughy flavorless', 'found six inch long piece wire also', 'service terrible food medico', 'define enjoy', 'order albondiga soup warm last like tomato soup frozen meatal', 'three differ occur ask well done medium well three time got bloodless piece meat plate', 'two bite refuse eat anymore', 'service extreme slow', 'minute wait got table', 'serious killer hot chair last', 'allegro warn menu witness absolute clue meal not contain peanuts', 'boyfriend try mediterranean chicken salad fell love', 'rotate beer tap also highlight place', 'price bit concern mellow mushroom', 'worst that ever', 'stay vera must get breakfast least', 'want first say server great perfect service', 'penza select good', 'strawberry tea good', 'highly profession rude loyal patron', 'overall great expert', 'spend money elsewhere', 'regular toast bread equal satisfy occasion pat butter mmm', 'buffets bellagio far anticus', 'drink weak people', 'order not correct', 'also feel like chip bought not made house', 'disappoint dinner went elsewhere dessert', 'chip sal may', 'return', 'new far vera buffets spot', 'serious cannot believe owner man inexperience employe run around like chicken head cut', 'sad', 'felt insult disrespect could talk judge not human like', 'call steakhous properly cook speak understand', 'not impress concept food', 'thing crazy guaiacol like our ed', 'really not posting hope expert better', 'got food poison buffets', 'brought fresh batch fro think may cometh warm', 'filaria gumma christmas eve dinner remember biggest fail enter trip us', 'needless say go back anti soon', 'place disgust', 'every time eat see care tearworn profession degree', 'ri style calamari joke', 'howe much garlic fond bare evil', 'could bare stomach meal complain busy lunch', 'bad lost heart finish', 'also took fore bring us check ask', 'one make scene restful get definite lost love one', 'disappoint expert', 'food par dense say not good', 'want wait medico food downright terrible service place', 'waaaaaayyyyyyyyyi rate say', 'go back', 'place fairly clean food simple worth', 'place lack style', 'ganglia half glass wine full ridicule', 'bother come', 'meat pretty dry slice brisker pull pork', 'build seem pretty neat bathroom pretty trip eat', 'equal a', 'probably not hurry go back', 'slow seat even reserve', 'not good stretch imagine', 'cases cream sac bland beget undertook', 'chipault ranch dip says tactless seem thin water heat', 'bit sweet not really spice enough lack flavor', 'disappoint', 'place horrible way over', 'may vegetarian fare twice thought average best', 'busy know', 'table outside also dirty lot time worker not away friendly help menu', 'ambianc not feel like buffets set douched indoor garden tea biscuit', 'con spot service', 'fro not hot neither burgher', 'came back cold', 'food came disappoint ensue', 'real disappoint waiter', 'husband said rude not even apology bad food any', 'reason eat would fill night being drink get care stomach', 'insult profound deuchebaggeri go outside smoke break serve solidified', 'someone order two tact think may part custom service ask comb all cart', 'quit disappoint although blame need place door', 'have review wait eat disappoint', 'del tact pretty nasty avoid possible', 'not hard make decent hamburg', 'like', 'hell go back', 'gotten much better service penza place next door service receive restful', 'know big deal place back a', 'dimmed said want talk manage not want talk guy shot firebal behind bar', 'ambianc much better', 'unfortun set us disappoint enter', 'food good', 'server suck wait correct server hosmer suck', 'happen next pretty put', 'bad cause know family own really want like place', 'over get', 'vomit bathroom mid lunch', 'kept look time soon become minute yet still food', 'place eat circuit would ever return top list', 'start tune sashimi brownish color obvious fresh', 'food average', 'sure beat each move would expect little bit come restful', 'ha long bay bit flop', 'problem charge sandwich bigger subways sub offer better amount beget', 'shrimp wrap live mile brushfir later ice cold', 'lack flavor seem undertook dry', 'really impress place close', 'would avoid place stay murat', 'reform bean came meal dry crust food bland', 'spend money time place else', 'laid table next us found live green caterpillar salad', 'present food a', 'tell disappoint', 'think food flavor texture lack', 'appetite instantly gone', 'overall not impress would not go back', 'whole expert underwhelm think go nina such next time', 'wast enough life pour salt wound draw time took bring check']\n"
     ]
    }
   ],
   "source": [
    "print(corpus)"
   ]
  },
  {
   "cell_type": "markdown",
   "metadata": {
    "colab_type": "text",
    "id": "CLqmAkANCp1-"
   },
   "source": [
    "## Creating the Bag of Words model"
   ]
  },
  {
   "cell_type": "code",
   "execution_count": 37,
   "metadata": {
    "scrolled": true
   },
   "outputs": [],
   "source": [
    "from sklearn.feature_extraction.text import CountVectorizer\n",
    "cv = CountVectorizer(max_features = 1400)\n",
    "X = cv.fit_transform(corpus).toarray()\n",
    "y = dataset.iloc[:, -1].values"
   ]
  },
  {
   "cell_type": "markdown",
   "metadata": {
    "colab_type": "text",
    "id": "DH_VjgPzC2cd"
   },
   "source": [
    "## Splitting the dataset into the Training set and Test set"
   ]
  },
  {
   "cell_type": "code",
   "execution_count": 38,
   "metadata": {
    "colab": {},
    "colab_type": "code",
    "id": "qQXYM5VzDDDI"
   },
   "outputs": [],
   "source": [
    "from sklearn.model_selection import train_test_split\n",
    "X_train, X_test, y_train, y_test = train_test_split(X, y, test_size = 0.20, random_state = 0)"
   ]
  },
  {
   "cell_type": "markdown",
   "metadata": {},
   "source": [
    "### Feature Scaling"
   ]
  },
  {
   "cell_type": "code",
   "execution_count": 39,
   "metadata": {},
   "outputs": [],
   "source": [
    "from sklearn.preprocessing import StandardScaler\n",
    "sc = StandardScaler()\n",
    "X_train = sc.fit_transform(X_train)\n",
    "X_test = sc.transform(X_test)"
   ]
  },
  {
   "cell_type": "markdown",
   "metadata": {
    "colab_type": "text",
    "id": "VkIq23vEDIPt"
   },
   "source": [
    "## Training the Logistic Regression model on the Training set"
   ]
  },
  {
   "cell_type": "code",
   "execution_count": 40,
   "metadata": {
    "colab": {
     "base_uri": "https://localhost:8080/",
     "height": 34
    },
    "colab_type": "code",
    "id": "DS9oiDXXDRdI",
    "outputId": "77513c39-0ec6-4544-c056-26abe055b746"
   },
   "outputs": [
    {
     "data": {
      "text/plain": [
       "LogisticRegression(random_state=0)"
      ]
     },
     "execution_count": 40,
     "metadata": {},
     "output_type": "execute_result"
    }
   ],
   "source": [
    "from sklearn.linear_model import LogisticRegression\n",
    "classifier = LogisticRegression(random_state=0)\n",
    "classifier.fit(X_train, y_train)"
   ]
  },
  {
   "cell_type": "markdown",
   "metadata": {
    "colab_type": "text",
    "id": "1JaRM7zXDWUy"
   },
   "source": [
    "## Predicting the Test set results"
   ]
  },
  {
   "cell_type": "code",
   "execution_count": 41,
   "metadata": {
    "colab": {
     "base_uri": "https://localhost:8080/",
     "height": 1000
    },
    "colab_type": "code",
    "id": "Iif0CVhFDaMp",
    "outputId": "1266c3f2-d500-440e-d756-e0eabad504a7",
    "scrolled": true
   },
   "outputs": [
    {
     "name": "stdout",
     "output_type": "stream",
     "text": [
      "[[0 0]\n",
      " [0 0]\n",
      " [0 0]\n",
      " [0 0]\n",
      " [1 0]\n",
      " [1 0]\n",
      " [1 1]\n",
      " [0 0]\n",
      " [0 0]\n",
      " [1 1]\n",
      " [1 1]\n",
      " [1 1]\n",
      " [0 0]\n",
      " [1 1]\n",
      " [1 1]\n",
      " [1 1]\n",
      " [1 0]\n",
      " [0 0]\n",
      " [0 0]\n",
      " [1 1]\n",
      " [0 0]\n",
      " [0 1]\n",
      " [1 1]\n",
      " [1 0]\n",
      " [0 0]\n",
      " [1 1]\n",
      " [0 1]\n",
      " [1 1]\n",
      " [1 1]\n",
      " [0 0]\n",
      " [1 1]\n",
      " [1 1]\n",
      " [0 1]\n",
      " [1 1]\n",
      " [1 1]\n",
      " [0 0]\n",
      " [0 0]\n",
      " [0 0]\n",
      " [0 0]\n",
      " [1 1]\n",
      " [1 1]\n",
      " [1 0]\n",
      " [1 1]\n",
      " [0 0]\n",
      " [0 0]\n",
      " [0 0]\n",
      " [1 0]\n",
      " [1 0]\n",
      " [0 0]\n",
      " [0 0]\n",
      " [1 1]\n",
      " [1 1]\n",
      " [1 1]\n",
      " [1 1]\n",
      " [0 0]\n",
      " [0 0]\n",
      " [0 1]\n",
      " [0 1]\n",
      " [0 0]\n",
      " [1 1]\n",
      " [0 0]\n",
      " [0 0]\n",
      " [1 0]\n",
      " [1 0]\n",
      " [1 1]\n",
      " [0 0]\n",
      " [1 1]\n",
      " [0 1]\n",
      " [0 1]\n",
      " [0 0]\n",
      " [1 1]\n",
      " [1 1]\n",
      " [1 1]\n",
      " [1 1]\n",
      " [0 0]\n",
      " [0 0]\n",
      " [1 1]\n",
      " [1 1]\n",
      " [0 0]\n",
      " [1 1]\n",
      " [0 0]\n",
      " [1 1]\n",
      " [1 1]\n",
      " [0 0]\n",
      " [1 1]\n",
      " [1 1]\n",
      " [0 0]\n",
      " [0 0]\n",
      " [1 1]\n",
      " [1 0]\n",
      " [0 0]\n",
      " [1 1]\n",
      " [0 0]\n",
      " [0 0]\n",
      " [0 0]\n",
      " [0 1]\n",
      " [1 0]\n",
      " [1 1]\n",
      " [1 1]\n",
      " [1 0]\n",
      " [0 1]\n",
      " [1 1]\n",
      " [1 1]\n",
      " [1 0]\n",
      " [0 1]\n",
      " [1 0]\n",
      " [1 1]\n",
      " [1 1]\n",
      " [0 0]\n",
      " [0 1]\n",
      " [0 1]\n",
      " [1 1]\n",
      " [0 0]\n",
      " [1 0]\n",
      " [0 1]\n",
      " [0 0]\n",
      " [1 1]\n",
      " [1 1]\n",
      " [1 1]\n",
      " [1 1]\n",
      " [0 1]\n",
      " [0 0]\n",
      " [1 1]\n",
      " [0 0]\n",
      " [0 0]\n",
      " [0 0]\n",
      " [0 1]\n",
      " [0 0]\n",
      " [0 0]\n",
      " [0 1]\n",
      " [0 0]\n",
      " [1 1]\n",
      " [0 0]\n",
      " [0 0]\n",
      " [1 1]\n",
      " [1 1]\n",
      " [1 1]\n",
      " [1 1]\n",
      " [1 1]\n",
      " [0 0]\n",
      " [0 1]\n",
      " [1 1]\n",
      " [1 1]\n",
      " [0 0]\n",
      " [0 0]\n",
      " [0 0]\n",
      " [0 0]\n",
      " [0 1]\n",
      " [1 1]\n",
      " [1 1]\n",
      " [1 1]\n",
      " [0 1]\n",
      " [1 1]\n",
      " [1 1]\n",
      " [1 0]\n",
      " [0 0]\n",
      " [1 1]\n",
      " [1 1]\n",
      " [1 1]\n",
      " [0 0]\n",
      " [1 0]\n",
      " [0 0]\n",
      " [1 1]\n",
      " [1 1]\n",
      " [1 0]\n",
      " [0 0]\n",
      " [0 0]\n",
      " [0 0]\n",
      " [0 0]\n",
      " [0 1]\n",
      " [0 0]\n",
      " [1 1]\n",
      " [1 1]\n",
      " [0 0]\n",
      " [0 0]\n",
      " [0 1]\n",
      " [0 0]\n",
      " [1 1]\n",
      " [0 0]\n",
      " [0 1]\n",
      " [1 1]\n",
      " [1 0]\n",
      " [0 0]\n",
      " [1 0]\n",
      " [0 0]\n",
      " [1 1]\n",
      " [0 0]\n",
      " [1 1]\n",
      " [0 0]\n",
      " [1 1]\n",
      " [1 1]\n",
      " [0 0]\n",
      " [0 0]\n",
      " [1 0]\n",
      " [1 1]\n",
      " [0 0]\n",
      " [1 1]\n",
      " [1 1]\n",
      " [0 0]\n",
      " [1 1]]\n"
     ]
    }
   ],
   "source": [
    "y_pred = classifier.predict(X_test)\n",
    "print(np.concatenate((y_pred.reshape(len(y_pred),1), y_test.reshape(len(y_test),1)),1))"
   ]
  },
  {
   "cell_type": "markdown",
   "metadata": {
    "colab_type": "text",
    "id": "xoMltea5Dir1"
   },
   "source": [
    "## Making the Confusion Matrix"
   ]
  },
  {
   "cell_type": "code",
   "execution_count": 42,
   "metadata": {
    "colab": {
     "base_uri": "https://localhost:8080/",
     "height": 68
    },
    "colab_type": "code",
    "id": "Xj9IU6MxDnvo",
    "outputId": "43efba29-9811-4913-a085-8355ec1c02cb"
   },
   "outputs": [
    {
     "name": "stdout",
     "output_type": "stream",
     "text": [
      "[[76 21]\n",
      " [22 81]]\n"
     ]
    },
    {
     "data": {
      "text/plain": [
       "0.785"
      ]
     },
     "execution_count": 42,
     "metadata": {},
     "output_type": "execute_result"
    }
   ],
   "source": [
    "from sklearn.metrics import confusion_matrix, accuracy_score\n",
    "cm = confusion_matrix(y_test, y_pred)\n",
    "print(cm)\n",
    "accuracy_score(y_test, y_pred)"
   ]
  },
  {
   "cell_type": "markdown",
   "metadata": {},
   "source": [
    "## Predict if a Single review is positive or negative"
   ]
  },
  {
   "cell_type": "code",
   "execution_count": 50,
   "metadata": {},
   "outputs": [
    {
     "name": "stdout",
     "output_type": "stream",
     "text": [
      "[0]\n"
     ]
    }
   ],
   "source": [
    "new_review = 'I do not love this restaurant so much'\n",
    "new_review = re.sub('[^a-zA-Z]', ' ', new_review)\n",
    "new_review = new_review.lower()\n",
    "new_review = new_review.split()\n",
    "ps = PorterStemmer()\n",
    "all_stopwords = stopwords.words('english')\n",
    "all_stopwords.remove('not')\n",
    "new_review = [ps.stem(word) for word in new_review if not word in set(all_stopwords)]\n",
    "new_review = ' '.join(new_review)\n",
    "new_review = str(TextBlob(new_review).correct())\n",
    "new_corpus = [new_review]\n",
    "new_X_test = cv.transform(new_corpus).toarray()\n",
    "new_X_test = sc.transform(new_X_test)\n",
    "new_y_pred = classifier.predict(new_X_test)\n",
    "print(new_y_pred)"
   ]
  },
  {
   "cell_type": "markdown",
   "metadata": {},
   "source": [
    "## Saving the Model with pickle"
   ]
  },
  {
   "cell_type": "code",
   "execution_count": 44,
   "metadata": {},
   "outputs": [],
   "source": [
    "import pickle"
   ]
  },
  {
   "cell_type": "code",
   "execution_count": 51,
   "metadata": {},
   "outputs": [],
   "source": [
    "model_filename = 'logistic_regression_finalized_model.sav'\n",
    "sc_filename = 'sc.sav'\n",
    "cv_filename = 'cv.sav'\n",
    "pickle.dump(classifier, open(model_filename, 'wb'))\n",
    "pickle.dump(sc, open(sc_filename, 'wb'))\n",
    "pickle.dump(cv, open(cv_filename, 'wb'))"
   ]
  },
  {
   "cell_type": "code",
   "execution_count": null,
   "metadata": {
    "scrolled": false
   },
   "outputs": [],
   "source": []
  },
  {
   "cell_type": "code",
   "execution_count": null,
   "metadata": {},
   "outputs": [],
   "source": []
  }
 ],
 "metadata": {
  "kernelspec": {
   "display_name": "Python 3",
   "language": "python",
   "name": "python3"
  },
  "language_info": {
   "codemirror_mode": {
    "name": "ipython",
    "version": 3
   },
   "file_extension": ".py",
   "mimetype": "text/x-python",
   "name": "python",
   "nbconvert_exporter": "python",
   "pygments_lexer": "ipython3",
   "version": "3.7.4"
  }
 },
 "nbformat": 4,
 "nbformat_minor": 5
}
